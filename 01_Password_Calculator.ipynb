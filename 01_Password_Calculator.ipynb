{
 "cells": [
  {
   "cell_type": "code",
   "execution_count": null,
   "metadata": {},
   "outputs": [],
   "source": [
    "import random\n",
    "import string\n",
    "\n",
    "# low = list(string.ascii_lowercase)  # returns all the lowercase letters into a list\n",
    "# up = list(string.ascii_uppercase)   # returns all the upppercase letters into a list\n",
    "\n",
    "letters = list(string.ascii_letters)  # returns all the letters into a single list\n",
    "\n",
    "#print(letters)\n",
    "\n",
    "numbers = ['0', '1', '2', '3', '4', '5', '6', '7', '8', '9']\n",
    "\n",
    "symbols = ['!', '@', '#', '$', '%', '^', '&', '*', '(', ')']\n",
    "\n",
    "print(\"Welcome to the Password Generator...\")\n",
    "\n",
    "n_letters = int(input(\"How many letters would you like in your password?\\n\"))\n",
    "n_numbers = int(input(\"How many numbers would you like in your password?\\n\"))\n",
    "n_symbols = int(input(\"How many symbols would you like in your password?\\n\"))\n",
    "\n",
    "password = \"\"\n",
    "\n",
    "for i in range(n_letters):\n",
    "  password += random.choice(letters) # randomly picks up a letter in the given list of letters and add it to the respective empty string\n",
    "\n",
    "for i in range(n_numbers):\n",
    "  password += random.choice(numbers) # randomly picks up a number in the given list of numbers and add it to the respective empty string\n",
    "\n",
    "for i in range(n_symbols):\n",
    "  password += random.choice(symbols) # randomly picks up a symbol in the given list of symbols and add it to the respective empty string\n",
    "\n",
    "password_list = list(password)\n",
    "# we could use secret.choice() - this is cryptographically more secured\n",
    "\n",
    "# the below password gives the randomly interchanged password\n",
    "\n",
    "random.shuffle(password_list) # randomly reorders the list\n",
    "\n",
    "print(f\"Your password is '{''.join(password_list)}'\")"
   ]
  }
 ],
 "metadata": {
  "language_info": {
   "name": "python"
  }
 },
 "nbformat": 4,
 "nbformat_minor": 2
}
